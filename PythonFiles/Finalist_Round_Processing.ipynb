{
 "cells": [
  {
   "cell_type": "code",
   "execution_count": null,
   "metadata": {},
   "outputs": [],
   "source": [
    "import folium\n",
    "\n",
    "print('Folium installed and imported!')"
   ]
  },
  {
   "cell_type": "code",
   "execution_count": null,
   "metadata": {},
   "outputs": [],
   "source": [
    "# define the world map\n",
    "world_map = folium.Map(tiles='Stamen Terrain')\n",
    "# display world map\n",
    "world_map\n",
    "\n",
    "# define the world map\n",
    "asean_map = folium.Map(tiles='Stamen Terrain')\n",
    "# display world map\n",
    "asean_map\n"
   ]
  },
  {
   "cell_type": "code",
   "execution_count": null,
   "metadata": {},
   "outputs": [],
   "source": [
    "import pandas as pd\n",
    "\n",
    "dfdummy = pd.read_csv(r\"D:\\UKM\\Research Assistant\\WAIdatahon\\makeovermonday-2020w10\\WDTAI.csv\")\n",
    "dfdummy.info()"
   ]
  },
  {
   "cell_type": "code",
   "execution_count": null,
   "metadata": {},
   "outputs": [],
   "source": [
    "# download countries geojson file\n",
    "!wget --quiet https://cf-courses-data.s3.us.cloud-object-storage.appdomain.cloud/IBMDeveloperSkillsNetwork-DV0101EN-SkillsNetwork/Data%20Files/world_countries.json\n",
    "    \n",
    "world_geo = r'world_countries.json' # geojson file\n",
    "\n",
    "# create a plain world map\n",
    "world_map = folium.Map(location=[0, 0], zoom_start=2)"
   ]
  },
  {
   "cell_type": "code",
   "execution_count": null,
   "metadata": {},
   "outputs": [],
   "source": [
    "# GroupBy using Country \n",
    "\n",
    "df_CountryVal = dfdummy[['Country', 'Value']]\n",
    "df_CountryValTotal = df_CountryVal.groupby(['Country']).sum()\n",
    "df_CountryValTotal = df_CountryValTotal.reset_index()\n",
    "df_CountryValTotal"
   ]
  },
  {
   "cell_type": "code",
   "execution_count": null,
   "metadata": {},
   "outputs": [],
   "source": [
    "# generate choropleth map using the total immigration of each country to Canada from 1980 to 2013\n",
    "world_map.choropleth(\n",
    "    geo_data=world_geo,\n",
    "    data=df_CountryValTotal,\n",
    "    columns=['Country', 'Value'],\n",
    "    key_on='feature.properties.name',\n",
    "    fill_color='YlOrRd', \n",
    "    fill_opacity=0.7, \n",
    "    line_opacity=0.2,\n",
    "    legend_name='Total people who agreed with the question',\n",
    ")\n",
    "\n",
    "# display map\n",
    "world_map"
   ]
  },
  {
   "cell_type": "code",
   "execution_count": null,
   "metadata": {},
   "outputs": [],
   "source": [
    "#take asean continents only\n",
    "asean = ['Brunei', 'Cambodia', 'Indonesia', 'Laos', 'Malaysia', 'Myanmar', 'Philippines', 'Singapore', 'Thailand', 'Vietnam']\n",
    "df_asean = df_CountryValTotal.loc[df_CountryValTotal['Country'].isin(asean)]\n",
    "\n",
    "\n",
    "df_asean"
   ]
  },
  {
   "cell_type": "code",
   "execution_count": null,
   "metadata": {},
   "outputs": [],
   "source": [
    "# generate choropleth map using the total immigration of each country to Canada from 1980 to 2013\n",
    "asean_map.choropleth(\n",
    "    geo_data=world_geo,\n",
    "    data=df_asean,\n",
    "    columns=['Country', 'Value'],\n",
    "    key_on='feature.properties.name',\n",
    "    fill_color='YlOrRd', \n",
    "    fill_opacity=0.7, \n",
    "    line_opacity=0.2,\n",
    "    legend_name='Total people who agreed with the question',\n",
    ")\n",
    "\n",
    "# display map\n",
    "asean_map"
   ]
  },
  {
   "cell_type": "code",
   "execution_count": null,
   "metadata": {},
   "outputs": [],
   "source": [
    "\n",
    "world_map = folium.Map(location=[0, 0], zoom_start=2.4)\n",
    "world_map.choropleth(\n",
    "    geo_data=world_geo,\n",
    "    data=dfdummy,\n",
    "    columns=['Country', 'Value'],\n",
    "    key_on='feature.properties.name',\n",
    "    fill_color='YlOrRd', \n",
    "    fill_opacity=0.7, \n",
    "    line_opacity=0.2,\n",
    "    legend_name='Cambodia'\n",
    ")\n",
    "\n",
    "# display map\n",
    "world_map"
   ]
  },
  {
   "cell_type": "code",
   "execution_count": null,
   "metadata": {},
   "outputs": [],
   "source": [
    "# threshold_scale = np.linspace(dfdummy['Value'].min(),\n",
    "#                               dfdummy['Value'].max(),\n",
    "#                               6, dtype=int)\n",
    "# threshold_scale = threshold_scale.tolist() # change the numpy array to a list\n",
    "# threshold_scale[-1] = threshold_scale[-1] + 1 # make sure that the last value of the list is greater than the maximum immigration\n",
    "\n",
    "world = folium.Map(location=[0,0], zoom_start=2.4, tiles='Stamen Terrain')\n",
    "choropleth = world.choropleth(geo_data=world_geo,\n",
    "    data=dfdummy,\n",
    "    columns=['Country', 'Value'],\n",
    "#     threshold_scale=threshold_scale,\n",
    "    key_on='feature.properties.name',\n",
    "    fill_color='YlOrRd', \n",
    "    fill_opacity=0.7, \n",
    "    line_opacity=0.2,\n",
    "    legend_name='Total Percentage(%) Respondents Per Country',\n",
    ")\n",
    "\n",
    "# choropleth.geojson.add_child(folium.features.GeoJsonTooltip(['name'], labels=False))\n",
    "world"
   ]
  },
  {
   "cell_type": "code",
   "execution_count": null,
   "metadata": {},
   "outputs": [],
   "source": [
    "asean = ['Brunei', 'Cambodia', 'Indonesia', 'Laos', 'Malaysia', 'Myanmar', 'Philippines', 'Singapore', 'Thailand', 'Vietnam']\n",
    "df_asean = dfdummy.loc[dfdummy['Country'].isin(asean)]\n",
    "\n",
    "threshold_scale = np.linspace(df_asean['Value'].min(),\n",
    "                              df_asean['Value'].max(),\n",
    "                              6, dtype=int)\n",
    "threshold_scale = threshold_scale.tolist() # change the numpy array to a list\n",
    "threshold_scale[-1] = threshold_scale[-1] + 1 # make sure that the last value of the list is greater than the maximum immigration\n",
    "\n",
    "world = folium.Map(location=[0,0], zoom_start=2.5, tiles='Stamen Terrain')\n",
    "choropleth = world.choropleth(geo_data=world_geo,\n",
    "    data=df_asean,\n",
    "    columns=['Country', 'Value'],\n",
    "    threshold_scale=threshold_scale,\n",
    "    key_on='feature.properties.name',\n",
    "    fill_color='YlOrRd', \n",
    "    fill_opacity=0.7, \n",
    "    line_opacity=0.2,\n",
    "    legend_name='Total Percentage(%) Respondents Per Asean Country',\n",
    ")\n",
    "\n",
    "# choropleth.geojson.add_child(folium.features.GeoJsonTooltip(['name'], labels=False))\n",
    "world"
   ]
  },
  {
   "cell_type": "code",
   "execution_count": null,
   "metadata": {},
   "outputs": [],
   "source": [
    "df_asean"
   ]
  },
  {
   "cell_type": "code",
   "execution_count": null,
   "metadata": {},
   "outputs": [],
   "source": [
    "df_valNew = df_asean[['Country','Question','Value']]\n",
    "df_valNew"
   ]
  },
  {
   "cell_type": "code",
   "execution_count": null,
   "metadata": {},
   "outputs": [],
   "source": [
    "world = folium.Map(location=[0,0], zoom_start=2.5, tiles='Stamen Terrain')\n",
    "choropleth = world.choropleth(geo_data=world_geo,\n",
    "    data=df_asean,\n",
    "    columns=['Country', 'Value'],\n",
    "#     threshold_scale=threshold_scale,\n",
    "    key_on='feature.properties.name',\n",
    "    fill_color='YlOrRd', \n",
    "    fill_opacity=0.7, \n",
    "    line_opacity=0.2,\n",
    "    legend_name='Total Percentage(%) Respondents Per Country',\n",
    ")\n",
    "world"
   ]
  }
 ],
 "metadata": {
  "kernelspec": {
   "display_name": "Python 3",
   "language": "python",
   "name": "python3"
  },
  "language_info": {
   "codemirror_mode": {
    "name": "ipython",
    "version": 3
   },
   "file_extension": ".py",
   "mimetype": "text/x-python",
   "name": "python",
   "nbconvert_exporter": "python",
   "pygments_lexer": "ipython3",
   "version": "3.8.3"
  }
 },
 "nbformat": 4,
 "nbformat_minor": 4
}
